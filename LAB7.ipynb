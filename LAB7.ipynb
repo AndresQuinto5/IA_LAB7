{
  "cells": [
    {
      "cell_type": "markdown",
      "metadata": {},
      "source": [
        "Universidad del valle de Guatemala  \n",
        "Dpto. Ciencias de la computacion  \n",
        "Inteligencia Artificial  \n",
        "Alberto Suriano  \n",
        "\n",
        "Laboratorio 7  \n",
        "Andres Quinto - 18288  \n",
        "Marlon Hernández - 15177  \n",
        "\n",
        "[LINK_REPO](https://github.com/AndresQuinto5/IA_LAB7.git)"
      ]
    },
    {
      "cell_type": "markdown",
      "metadata": {},
      "source": [
        "1. En un juego de suma cero para dos jugadores, ¿cómo funciona el algoritmo minimax para determinar la estrategia óptima para cada jugador? ¿Puede explicarnos el concepto de \"valor minimax\" y su importancia en este contexto? \n",
        "    - El algoritmo Minimax es un método de decisión utilizado en la teoría de juegos para determinar el mejor movimiento para un jugador, asumiendo que su oponente también juega de manera óptima [MiniMax](https://barcelonageeks.com/algoritmo-minimax-en-teoria-de-juegos-conjunto-1-introduccion/)\n",
        "\n",
        "    - La forma en la que utilizamos y trabaja este minimax es la siguiente (en connect four):\n",
        "        \n",
        "        **Generación del árbol de juego**: El algoritmo genera un árbol de búsqueda con todos los posibles movimientos a partir de un estado dado.\n",
        "\n",
        "        **Cálculo del valor de los nodos**: Para cada posible acción del jugador, se revisan todas las acciones posibles del otro jugador y se determina la peor combinación posible de acciones, es decir, la que da al jugador el valor más pequeño. Luego, se determina qué acción puede tomar el jugador para asegurarse de que este valor más pequeño sea el más alto posible.  [DevCode](https://www.devcode.la/tutoriales/algoritmo-minimax/)\n",
        "\n",
        "    En este contexto, el **“valor minimax”** es el valor más pequeño que los otros jugadores pueden forzar al jugador a recibir, sin conocer las acciones del jugador; o equivalentemente, es el valor más grande que el jugador puede estar seguro de obtener cuando conoce las acciones de los otros jugadores. Este valor es crucial porque guía la toma de decisiones del jugador en el juego.  [MiniMax](https://barcelonageeks.com/algoritmo-minimax-en-teoria-de-juegos-conjunto-1-introduccion/)\n",
        "\n",
        "    Nos importa mucho en este contexto del problema de connect four, el algoritmo Minimax opera bajo la suposición de que todos los jugadores están jugando de manera óptima. Por lo tanto, aunque pueda haber un valor alto en una rama del árbol de juego, si el oponente tiene la opción de evitar esa rama, el algoritmo Minimax no la considerará como una opción viable. [Minimax Algorithm in Game Theory | Set 1 (Introduction)](https://www.geeksforgeeks.org/minimax-algorithm-in-game-theory-set-1-introduction/)\n",
        "    \n",
        "2. Compare y contraste el algoritmo minimax con la poda alfa-beta. ¿Cómo mejora la poda alfa-beta la eficiencia del algoritmo minimax, particularmente en árboles de caza grandes? Proporcione un ejemplo para ilustrar la diferencia en la complejidad computacional entre la poda minimax y alfa-beta.  \n",
        "\n",
        "    **Algoritmo Minimax:** Este algoritmo busca el mejor movimiento para un jugador, asumiendo que su oponente también juega de manera óptima. Genera un árbol de búsqueda con todos los posibles movimientos a partir de un estado dado y calcula el valor de los nodos. Sin embargo, este algoritmo puede ser ineficiente para árboles de juego grandes debido a la necesidad de explorar todos los nodos.\n",
        "\n",
        "    **Poda Alfa-Beta:** Esta es una técnica de optimización para el algoritmo Minimax. La poda Alfa-Beta mejora la eficiencia del algoritmo Minimax al eliminar (podar) los nodos del árbol de búsqueda que no necesitan ser explorados porque no pueden influir en la decisión final. Esto reduce significativamente el número de nodos que se evalúan, lo que hace que la poda Alfa-Beta sea más eficiente que el Minimax, especialmente en árboles de juego grandes.\n",
        "\n",
        "    **Ejemplo de la diferencia en la complejidad computacional:** Supongamos que se tiene un juego con un árbol de juego muy grande. Si usamos el algoritmo Minimax, tendriamos que explorar todos los nodos del árbol, lo que podría llevar mucho tiempo. Sin embargo, si usamos la poda Alfa-Beta, podrías podar una gran cantidad de nodos que no afectarían el resultado final, lo que reduciría significativamente el tiempo de cálculo.\n",
        "\n",
        "    [Poda alfa-beta, una técnica de optimización para el algoritmo minimax en Teoría de Juegos de Inteligencia Artificial](https://ichi.pro/es/poda-alfa-beta-una-tecnica-de-optimizacion-para-el-algoritmo-minimax-en-teoria-de-juegos-de-inteligencia-artificial-119318688712239#google_vignette)\n",
        "\n",
        "3. ¿Cuál es el papel de expectiminimax en juegos con incertidumbre, como aquellos que involucran nodos de azar o información oculta? ¿En qué se diferencia el expectiminimax del minimax en el manejo de resultados probabilísticos y cuáles son los desafíos clave que aborda?  \n",
        "\n",
        "    El algoritmo **Expectiminimax** juega un papel crucial en los juegos con incertidumbre, como aquellos que involucran nodos de azar o información oculta. A diferencia del algoritmo Minimax, que asume que todos los jugadores juegan de manera óptima, Expectiminimax considera que los movimientos del adversario pueden ser no óptimos o basados en el azar.  [Expectimax Algorithm in Game Theory](https://www.geeksforgeeks.org/expectimax-algorithm-in-game-theory/)\n",
        "\n",
        "    En el algoritmo **Minimax**, los niveles del árbol alternan entre max y min hasta que se alcanza el límite de profundidad del árbol. Sin embargo, en un árbol Expectiminimax, los nodos de “azar” se intercalan con los nodos max y min. En lugar de tomar el max o min de los valores de utilidad de sus hijos, los nodos de azar toman un promedio ponderado, siendo el peso la probabilidad de que se alcance ese hijo.\n",
        "\n",
        "    **Por ejemplo**, en un juego en el que cada ronda consiste en un lanzamiento de dados, seguido de decisiones tomadas primero por el jugador de IA y luego por otro oponente inteligente, el orden de los nodos en este juego alternaría entre “azar”, “max” y luego \"min\".\n",
        "\n",
        "    Los desafíos clave que aborda el algoritmo Expectiminimax incluyen:\n",
        "\n",
        "    - **No optimalidad:** A diferencia de Minimax, Expectiminimax puede “tomar un riesgo” y terminar en un estado con una mayor utilidad ya que los oponentes son aleatorios (no óptimos).\n",
        "\n",
        "    - **Complejidad computacional:** Expectiminimax requiere que se explore todo el árbol de búsqueda. No hay ningún tipo de poda que se pueda hacer, ya que el valor de una sola utilidad no explorada puede cambiar drásticamente el valor de expectiminimax.\n",
        "\n",
        "    - **Sensibilidad a las transformaciones monótonas en los valores de utilidad:** Para minimax, si tenemos dos estados S1 y S2, si S1 es mejor que S2, las magnitudes de los valores de la función de evaluación f(S1) y f(S2) no importan siempre y cuando f(S1) > f(S2). Para expectiminimax, las magnitudes de los valores de la función de evaluación importan. \n",
        "    \n",
        "    [Expectimax Algorithm in Game Theory](https://www.geeksforgeeks.org/expectimax-algorithm-in-game-theory/)"
      ]
    },
    {
      "cell_type": "markdown",
      "metadata": {},
      "source": [
        "### referencias de codigo:\n",
        "\n",
        "#### MiniMax pseudo-code: https://es.wikipedia.org/wiki/Minimax\n",
        "#### Alpha-Beta pruning pseudo-code: https://es.wikipedia.org/wiki/Poda_alfa-beta"
      ]
    }
  ],
  "metadata": {
    "colab": {
      "provenance": []
    },
    "kernelspec": {
      "display_name": "Python 3",
      "name": "python3"
    },
    "language_info": {
      "codemirror_mode": {
        "name": "ipython",
        "version": 3
      },
      "file_extension": ".py",
      "mimetype": "text/x-python",
      "name": "python",
      "nbconvert_exporter": "python",
      "pygments_lexer": "ipython3",
      "version": "0.0.0"
    }
  },
  "nbformat": 4,
  "nbformat_minor": 0
}
